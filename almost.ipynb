{
  "nbformat": 4,
  "nbformat_minor": 0,
  "metadata": {
    "colab": {
      "name": "almost.ipynb",
      "version": "0.3.2",
      "provenance": [],
      "toc_visible": true,
      "include_colab_link": true
    },
    "kernelspec": {
      "name": "python2",
      "display_name": "Python 2"
    }
  },
  "cells": [
    {
      "cell_type": "markdown",
      "metadata": {
        "id": "view-in-github",
        "colab_type": "text"
      },
      "source": [
        "[View in Colaboratory](https://colab.research.google.com/github/grenache/style4colab/blob/master/almost.ipynb)"
      ]
    },
    {
      "metadata": {
        "id": "pgOOmHtl7AVq",
        "colab_type": "code",
        "colab": {}
      },
      "cell_type": "code",
      "source": [
        "#Download repository\n",
        "!git clone https://github.com/CompVis/adaptive-style-transfer.git\n",
        "!mv adaptive-style-transfer/* .\n",
        "\n",
        "#Download Model & Content\n",
        "import urllib\n",
        "print('Beginning file download with urllib2...')\n",
        "\n",
        "url = 'https://hcicloud.iwr.uni-heidelberg.de/index.php/s/XXVKT5grAquXNqi/download?path=%2F&files=model_van-gogh_ckpt.tar.gz'  \n",
        "urllib.urlretrieve(url, './model_van-gogh_ckpt.tar.gz')\n",
        "url = 'https://i.imgur.com/enarCUc.jpg'  \n",
        "urllib.urlretrieve(url, './data/enarCUc.jpg')\n",
        "\n",
        "#Decompressing Model\n",
        "import tarfile\n",
        "tar = tarfile.open(\"model_van-gogh_ckpt.tar.gz\")\n",
        "tar.extractall()\n",
        "tar.close()\n",
        "!mv model_van-gogh/* ./models"
      ],
      "execution_count": 0,
      "outputs": []
    },
    {
      "metadata": {
        "id": "MLKm-o677y0f",
        "colab_type": "code",
        "colab": {
          "base_uri": "https://localhost:8080/",
          "height": 136
        },
        "outputId": "34589217-f085-4101-9d1b-e465a3aa94ff"
      },
      "cell_type": "code",
      "source": [
        "!CUDA_VISIBLE_DEVICES=0 python main.py \\\n",
        "                 --model_name=model_van-gogh \\\n",
        "                 --phase=inference \\\n",
        "                 --image_size=1280"
      ],
      "execution_count": 14,
      "outputs": [
        {
          "output_type": "stream",
          "text": [
            "Inference.\n",
            "Start inference.\n",
            " [*] Reading latest checkpoint from folder ./models/model_van-gogh/checkpoint.\n",
            " [*] Reading latest checkpoint from folder ./models/model_van-gogh/checkpoint_long.\n",
            " [!] Load failed...\n",
            "0it [00:00, ?it/s]\n",
            "Inference is finished.\n"
          ],
          "name": "stdout"
        }
      ]
    }
  ]
}